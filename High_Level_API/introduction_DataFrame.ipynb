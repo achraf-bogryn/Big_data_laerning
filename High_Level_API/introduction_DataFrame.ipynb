{
  "nbformat": 4,
  "nbformat_minor": 0,
  "metadata": {
    "colab": {
      "provenance": []
    },
    "kernelspec": {
      "name": "python3",
      "display_name": "Python 3"
    },
    "language_info": {
      "name": "python"
    }
  },
  "cells": [
    {
      "cell_type": "code",
      "execution_count": 1,
      "metadata": {
        "id": "po8bHXoVBkLK"
      },
      "outputs": [],
      "source": [
        "from pyspark.sql import SparkSession"
      ]
    },
    {
      "cell_type": "code",
      "source": [
        "spark = SparkSession.builder.appName('Dataframe Basics').getOrCreate()"
      ],
      "metadata": {
        "id": "kAqLkIV2CMHN"
      },
      "execution_count": 2,
      "outputs": []
    },
    {
      "cell_type": "code",
      "source": [
        "data = [\n",
        "    (0,\"customer_0\",\"Bangaloc\",\"Karnataka\",\"India\",\"2023-11-11\",True),\n",
        "    (1,\"customer_1\",\"Bangaloc\",\"Karnataka\",\"India\",\"2023-11-11\",True),\n",
        "    (2,\"customer_2\",\"Bangaloc\",\"Karnataka\",\"India\",\"2023-11-11\",True)\n",
        "]\n",
        "\n",
        "columns = [\"customer_id\",\"name\",\"city\",\"state\",\"country\",\"registration_date\",\"is_Active\"]"
      ],
      "metadata": {
        "id": "hL1fFgTCCW0n"
      },
      "execution_count": 3,
      "outputs": []
    },
    {
      "cell_type": "code",
      "source": [
        "df =spark.createDataFrame(data,columns)"
      ],
      "metadata": {
        "id": "5QzEJZnZDFqK"
      },
      "execution_count": 6,
      "outputs": []
    },
    {
      "cell_type": "markdown",
      "source": [
        "### Use `show()` Function to display columns"
      ],
      "metadata": {
        "id": "XsF8_qY6D7Bx"
      }
    },
    {
      "cell_type": "code",
      "source": [
        "df.show()"
      ],
      "metadata": {
        "colab": {
          "base_uri": "https://localhost:8080/"
        },
        "id": "-uMVEdotDMcC",
        "outputId": "27573af4-6c83-4ded-f071-e36a9fb90e74"
      },
      "execution_count": 17,
      "outputs": [
        {
          "output_type": "stream",
          "name": "stdout",
          "text": [
            "+-----------+----------+--------+---------+-------+-----------------+---------+\n",
            "|customer_id|      name|    city|    state|country|registration_date|is_Active|\n",
            "+-----------+----------+--------+---------+-------+-----------------+---------+\n",
            "|          0|customer_0|Bangaloc|Karnataka|  India|       2023-11-11|     true|\n",
            "|          1|customer_1|Bangaloc|Karnataka|  India|       2023-11-11|     true|\n",
            "|          2|customer_2|Bangaloc|Karnataka|  India|       2023-11-11|     true|\n",
            "+-----------+----------+--------+---------+-------+-----------------+---------+\n",
            "\n"
          ]
        }
      ]
    },
    {
      "cell_type": "code",
      "source": [
        "df.select(\"name\").show()"
      ],
      "metadata": {
        "colab": {
          "base_uri": "https://localhost:8080/"
        },
        "id": "0Vwj3VIYD1m5",
        "outputId": "47314f3e-e948-4dfd-a5b8-80f76915b783"
      },
      "execution_count": 14,
      "outputs": [
        {
          "output_type": "stream",
          "name": "stdout",
          "text": [
            "+----------+\n",
            "|      name|\n",
            "+----------+\n",
            "|customer_0|\n",
            "|customer_1|\n",
            "|customer_2|\n",
            "+----------+\n",
            "\n"
          ]
        }
      ]
    },
    {
      "cell_type": "markdown",
      "source": [
        "### Use select to show dataType of each column"
      ],
      "metadata": {
        "id": "O-kV9uXoEM71"
      }
    },
    {
      "cell_type": "code",
      "source": [
        "df.select(\"name\")"
      ],
      "metadata": {
        "colab": {
          "base_uri": "https://localhost:8080/"
        },
        "id": "k03NnEvKDyYd",
        "outputId": "d362edab-f754-4779-b83a-0cb3cd292b8b"
      },
      "execution_count": 13,
      "outputs": [
        {
          "output_type": "execute_result",
          "data": {
            "text/plain": [
              "DataFrame[name: string]"
            ]
          },
          "metadata": {},
          "execution_count": 13
        }
      ]
    },
    {
      "cell_type": "code",
      "source": [
        "df.select(\"customer_id\")"
      ],
      "metadata": {
        "colab": {
          "base_uri": "https://localhost:8080/"
        },
        "id": "B9XtYCI-Df03",
        "outputId": "0140768c-6f92-4e32-b7c9-a8e8a8a2d9d6"
      },
      "execution_count": 12,
      "outputs": [
        {
          "output_type": "execute_result",
          "data": {
            "text/plain": [
              "DataFrame[customer_id: bigint]"
            ]
          },
          "metadata": {},
          "execution_count": 12
        }
      ]
    },
    {
      "cell_type": "markdown",
      "source": [
        "### `printSchema()` For displya MetaData"
      ],
      "metadata": {
        "id": "kSt_D8aIMiIe"
      }
    },
    {
      "cell_type": "code",
      "source": [
        "df.printSchema()"
      ],
      "metadata": {
        "colab": {
          "base_uri": "https://localhost:8080/"
        },
        "id": "DGUUjSSmDXO3",
        "outputId": "d2faadc9-e122-4684-8ec4-19ecf83b1447"
      },
      "execution_count": 9,
      "outputs": [
        {
          "output_type": "stream",
          "name": "stdout",
          "text": [
            "root\n",
            " |-- customer_id: long (nullable = true)\n",
            " |-- name: string (nullable = true)\n",
            " |-- city: string (nullable = true)\n",
            " |-- state: string (nullable = true)\n",
            " |-- country: string (nullable = true)\n",
            " |-- registration_date: string (nullable = true)\n",
            " |-- is_Active: boolean (nullable = true)\n",
            "\n"
          ]
        }
      ]
    }
  ]
}