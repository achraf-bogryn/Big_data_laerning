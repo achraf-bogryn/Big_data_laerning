{
  "cells": [
    {
      "cell_type": "markdown",
      "source": [
        "### use dataframe"
      ],
      "metadata": {
        "id": "wktP6pTtPBHJ"
      },
      "id": "wktP6pTtPBHJ"
    },
    {
      "cell_type": "code",
      "source": [
        "from pyspark.sql import SparkSession\n",
        "# Initialize Spark Session\n",
        "spark = SparkSession. builder \\\n",
        ".appName (\"High Level API DataFrame\") \\\n",
        ".getOrCreate ()"
      ],
      "metadata": {
        "id": "42JJXzomP4Um"
      },
      "id": "42JJXzomP4Um",
      "execution_count": 19,
      "outputs": []
    },
    {
      "cell_type": "code",
      "source": [
        "df = spark.read.format('csv')\\\n",
        ".option('header', 'true')\\\n",
        ".option('inferSchema', 'true')\\\n",
        ".load('/content/first_100_customers.csv')"
      ],
      "metadata": {
        "id": "moYOMdt7PD_Q"
      },
      "id": "moYOMdt7PD_Q",
      "execution_count": 18,
      "outputs": []
    },
    {
      "cell_type": "code",
      "source": [
        "df.head()"
      ],
      "metadata": {
        "colab": {
          "base_uri": "https://localhost:8080/"
        },
        "id": "eVmIJlurPZfT",
        "outputId": "f8c43c13-b2b8-45d6-d514-3a3dd0b40f3f"
      },
      "id": "eVmIJlurPZfT",
      "execution_count": 21,
      "outputs": [
        {
          "output_type": "execute_result",
          "data": {
            "text/plain": [
              "Row(customer_id=0, name='Customer_0', city='Pune', state='Maharashtra', country='India', registration_date=datetime.date(2023, 6, 29), is_active=False)"
            ]
          },
          "metadata": {},
          "execution_count": 21
        }
      ]
    },
    {
      "cell_type": "code",
      "source": [
        "df.show(5)"
      ],
      "metadata": {
        "colab": {
          "base_uri": "https://localhost:8080/"
        },
        "id": "1bNkiXjkQEaj",
        "outputId": "5546d874-3573-48cf-b165-996dcc142df9"
      },
      "id": "1bNkiXjkQEaj",
      "execution_count": 22,
      "outputs": [
        {
          "output_type": "stream",
          "name": "stdout",
          "text": [
            "+-----------+----------+---------+-----------+-------+-----------------+---------+\n",
            "|customer_id|      name|     city|      state|country|registration_date|is_active|\n",
            "+-----------+----------+---------+-----------+-------+-----------------+---------+\n",
            "|          0|Customer_0|     Pune|Maharashtra|  India|       2023-06-29|    false|\n",
            "|          1|Customer_1|Bangalore| Tamil Nadu|  India|       2023-12-07|     true|\n",
            "|          2|Customer_2|Hyderabad|    Gujarat|  India|       2023-10-27|     true|\n",
            "|          3|Customer_3|Bangalore|  Karnataka|  India|       2023-10-17|    false|\n",
            "|          4|Customer_4|Ahmedabad|  Karnataka|  India|       2023-03-14|    false|\n",
            "+-----------+----------+---------+-----------+-------+-----------------+---------+\n",
            "only showing top 5 rows\n",
            "\n"
          ]
        }
      ]
    },
    {
      "cell_type": "code",
      "source": [
        "df.printSchema()"
      ],
      "metadata": {
        "colab": {
          "base_uri": "https://localhost:8080/"
        },
        "id": "Kd19XAsOQHe_",
        "outputId": "26249980-faf1-4f49-e2bd-275162d2b313"
      },
      "id": "Kd19XAsOQHe_",
      "execution_count": 23,
      "outputs": [
        {
          "output_type": "stream",
          "name": "stdout",
          "text": [
            "root\n",
            " |-- customer_id: integer (nullable = true)\n",
            " |-- name: string (nullable = true)\n",
            " |-- city: string (nullable = true)\n",
            " |-- state: string (nullable = true)\n",
            " |-- country: string (nullable = true)\n",
            " |-- registration_date: date (nullable = true)\n",
            " |-- is_active: boolean (nullable = true)\n",
            "\n"
          ]
        }
      ]
    },
    {
      "cell_type": "code",
      "source": [
        "df.createOrReplaceTempView('customers')"
      ],
      "metadata": {
        "id": "9BAAA2eNQWuN"
      },
      "id": "9BAAA2eNQWuN",
      "execution_count": 25,
      "outputs": []
    },
    {
      "cell_type": "code",
      "source": [
        "results = spark.sql(\"select * from customers\")\n",
        "results.show(4)"
      ],
      "metadata": {
        "colab": {
          "base_uri": "https://localhost:8080/"
        },
        "id": "F7GXM4oeTXuR",
        "outputId": "2ad60781-57ae-406d-b19d-e0574eb841a9"
      },
      "id": "F7GXM4oeTXuR",
      "execution_count": 27,
      "outputs": [
        {
          "output_type": "stream",
          "name": "stdout",
          "text": [
            "+-----------+----------+---------+-----------+-------+-----------------+---------+\n",
            "|customer_id|      name|     city|      state|country|registration_date|is_active|\n",
            "+-----------+----------+---------+-----------+-------+-----------------+---------+\n",
            "|          0|Customer_0|     Pune|Maharashtra|  India|       2023-06-29|    false|\n",
            "|          1|Customer_1|Bangalore| Tamil Nadu|  India|       2023-12-07|     true|\n",
            "|          2|Customer_2|Hyderabad|    Gujarat|  India|       2023-10-27|     true|\n",
            "|          3|Customer_3|Bangalore|  Karnataka|  India|       2023-10-17|    false|\n",
            "+-----------+----------+---------+-----------+-------+-----------------+---------+\n",
            "only showing top 4 rows\n",
            "\n"
          ]
        }
      ]
    },
    {
      "cell_type": "code",
      "source": [
        "result2=spark.sql(\"select city , count(*) as number_per_city from customers group by city order by number_per_city DESC\")\n",
        "result2.show()"
      ],
      "metadata": {
        "colab": {
          "base_uri": "https://localhost:8080/"
        },
        "id": "tClwzAwaTyxd",
        "outputId": "251e64e7-effd-486e-9700-3deab0fa9749"
      },
      "id": "tClwzAwaTyxd",
      "execution_count": 31,
      "outputs": [
        {
          "output_type": "stream",
          "name": "stdout",
          "text": [
            "+---------+---------------+\n",
            "|     city|number_per_city|\n",
            "+---------+---------------+\n",
            "|     Pune|             23|\n",
            "|  Kolkata|             15|\n",
            "|  Chennai|             12|\n",
            "|Ahmedabad|             12|\n",
            "|Hyderabad|             12|\n",
            "|   Mumbai|              9|\n",
            "|    Delhi|              9|\n",
            "|Bangalore|              7|\n",
            "+---------+---------------+\n",
            "\n"
          ]
        }
      ]
    }
  ],
  "metadata": {
    "kernelspec": {
      "display_name": "PySpark",
      "language": "python",
      "name": "pyspark"
    },
    "language_info": {
      "codemirror_mode": {
        "name": "ipython",
        "version": 3
      },
      "file_extension": ".py",
      "mimetype": "text/x-python",
      "name": "python",
      "nbconvert_exporter": "python",
      "pygments_lexer": "ipython3",
      "version": "3.10.8"
    },
    "colab": {
      "provenance": []
    }
  },
  "nbformat": 4,
  "nbformat_minor": 5
}