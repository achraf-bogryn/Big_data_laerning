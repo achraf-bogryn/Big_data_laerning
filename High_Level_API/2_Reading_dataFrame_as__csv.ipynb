{
  "nbformat": 4,
  "nbformat_minor": 0,
  "metadata": {
    "colab": {
      "provenance": []
    },
    "kernelspec": {
      "name": "python3",
      "display_name": "Python 3"
    },
    "language_info": {
      "name": "python"
    }
  },
  "cells": [
    {
      "cell_type": "markdown",
      "source": [
        "## Read CSV file use Spark DataFrame"
      ],
      "metadata": {
        "id": "jAnwwJuPRqdN"
      }
    },
    {
      "cell_type": "code",
      "execution_count": 1,
      "metadata": {
        "id": "-W94ROMFQCoO"
      },
      "outputs": [],
      "source": [
        "from pyspark.sql import SparkSession"
      ]
    },
    {
      "cell_type": "code",
      "source": [
        "spark = SparkSession.builder.appName('Read Dataframe FROM CSV').getOrCreate()"
      ],
      "metadata": {
        "id": "O1x1ex0VQT1f"
      },
      "execution_count": 3,
      "outputs": []
    },
    {
      "cell_type": "code",
      "source": [
        "df_1 = spark.read \\\n",
        ".format('csv')\\\n",
        ".option(\"header\",\"true\")\\\n",
        ".option('inferSchema','true')\\\n",
        ".load(\"/content/first_100_customers.csv\")"
      ],
      "metadata": {
        "id": "BWPJviGTQfcR"
      },
      "execution_count": 17,
      "outputs": []
    },
    {
      "cell_type": "code",
      "source": [
        "df_1.printSchema()"
      ],
      "metadata": {
        "colab": {
          "base_uri": "https://localhost:8080/"
        },
        "id": "bp5b8Q_jRIW7",
        "outputId": "428a0682-47e9-48bd-87c9-d7bc746747dd"
      },
      "execution_count": 18,
      "outputs": [
        {
          "output_type": "stream",
          "name": "stdout",
          "text": [
            "root\n",
            " |-- customer_id: integer (nullable = true)\n",
            " |-- name: string (nullable = true)\n",
            " |-- city: string (nullable = true)\n",
            " |-- state: string (nullable = true)\n",
            " |-- country: string (nullable = true)\n",
            " |-- registration_date: date (nullable = true)\n",
            " |-- is_active: boolean (nullable = true)\n",
            "\n"
          ]
        }
      ]
    },
    {
      "cell_type": "code",
      "source": [
        "df_1.show(10)"
      ],
      "metadata": {
        "colab": {
          "base_uri": "https://localhost:8080/"
        },
        "id": "W2DyCAKgRLk4",
        "outputId": "2549ba49-b40b-4c88-c066-f30a272182b4"
      },
      "execution_count": 8,
      "outputs": [
        {
          "output_type": "stream",
          "name": "stdout",
          "text": [
            "+-----------+----------+---------+-----------+-------+-----------------+---------+\n",
            "|customer_id|      name|     city|      state|country|registration_date|is_active|\n",
            "+-----------+----------+---------+-----------+-------+-----------------+---------+\n",
            "|          0|Customer_0|     Pune|Maharashtra|  India|       2023-06-29|    false|\n",
            "|          1|Customer_1|Bangalore| Tamil Nadu|  India|       2023-12-07|     true|\n",
            "|          2|Customer_2|Hyderabad|    Gujarat|  India|       2023-10-27|     true|\n",
            "|          3|Customer_3|Bangalore|  Karnataka|  India|       2023-10-17|    false|\n",
            "|          4|Customer_4|Ahmedabad|  Karnataka|  India|       2023-03-14|    false|\n",
            "|          5|Customer_5|Hyderabad|  Karnataka|  India|       2023-07-28|    false|\n",
            "|          6|Customer_6|     Pune|      Delhi|  India|       2023-08-29|    false|\n",
            "|          7|Customer_7|Ahmedabad|West Bengal|  India|       2023-12-28|     true|\n",
            "|          8|Customer_8|     Pune|  Karnataka|  India|       2023-06-22|     true|\n",
            "|          9|Customer_9|   Mumbai|  Telangana|  India|       2023-01-05|     true|\n",
            "+-----------+----------+---------+-----------+-------+-----------------+---------+\n",
            "only showing top 10 rows\n",
            "\n"
          ]
        }
      ]
    },
    {
      "cell_type": "markdown",
      "source": [
        "###"
      ],
      "metadata": {
        "id": "GVem4wf-Ro4e"
      }
    },
    {
      "cell_type": "markdown",
      "source": [
        "### Count Number of columns and rows"
      ],
      "metadata": {
        "id": "7zwg1c4nRy56"
      }
    },
    {
      "cell_type": "code",
      "source": [
        "len(df_1.columns)"
      ],
      "metadata": {
        "colab": {
          "base_uri": "https://localhost:8080/"
        },
        "id": "WSUfahJbRZiH",
        "outputId": "ceaa7f4b-8af2-488e-86f2-08db7435d4d7"
      },
      "execution_count": 10,
      "outputs": [
        {
          "output_type": "execute_result",
          "data": {
            "text/plain": [
              "7"
            ]
          },
          "metadata": {},
          "execution_count": 10
        }
      ]
    },
    {
      "cell_type": "code",
      "source": [
        "df_1.count()"
      ],
      "metadata": {
        "colab": {
          "base_uri": "https://localhost:8080/"
        },
        "id": "zBAHooKpR3yU",
        "outputId": "909cb23f-2579-411e-f455-1fd16bbceff9"
      },
      "execution_count": 11,
      "outputs": [
        {
          "output_type": "execute_result",
          "data": {
            "text/plain": [
              "99"
            ]
          },
          "metadata": {},
          "execution_count": 11
        }
      ]
    },
    {
      "cell_type": "markdown",
      "source": [
        "### Filter"
      ],
      "metadata": {
        "id": "jM_DPurxSlbd"
      }
    },
    {
      "cell_type": "code",
      "source": [
        "df_1.filter(df_1.is_active == True).show(4)"
      ],
      "metadata": {
        "colab": {
          "base_uri": "https://localhost:8080/"
        },
        "id": "aNS-sN5iSlHE",
        "outputId": "ac032870-661f-4f41-ece4-899c733386d7"
      },
      "execution_count": 29,
      "outputs": [
        {
          "output_type": "stream",
          "name": "stdout",
          "text": [
            "+-----------+----------+---------+-----------+-------+-----------------+---------+\n",
            "|customer_id|      name|     city|      state|country|registration_date|is_active|\n",
            "+-----------+----------+---------+-----------+-------+-----------------+---------+\n",
            "|          1|Customer_1|Bangalore| Tamil Nadu|  India|       2023-12-07|     true|\n",
            "|          2|Customer_2|Hyderabad|    Gujarat|  India|       2023-10-27|     true|\n",
            "|          7|Customer_7|Ahmedabad|West Bengal|  India|       2023-12-28|     true|\n",
            "|          8|Customer_8|     Pune|  Karnataka|  India|       2023-06-22|     true|\n",
            "+-----------+----------+---------+-----------+-------+-----------------+---------+\n",
            "only showing top 4 rows\n",
            "\n"
          ]
        }
      ]
    },
    {
      "cell_type": "code",
      "source": [
        "df_1.filter(df_1.is_active == True).count()"
      ],
      "metadata": {
        "colab": {
          "base_uri": "https://localhost:8080/"
        },
        "id": "ji2ZItneTca1",
        "outputId": "389f7c19-42ca-4970-c169-9e4ebf0b34ef"
      },
      "execution_count": 26,
      "outputs": [
        {
          "output_type": "execute_result",
          "data": {
            "text/plain": [
              "53"
            ]
          },
          "metadata": {},
          "execution_count": 26
        }
      ]
    },
    {
      "cell_type": "code",
      "source": [
        "df_1.select(\"name\",\"is_Active\").filter(df_1.is_active == True).show(4)"
      ],
      "metadata": {
        "colab": {
          "base_uri": "https://localhost:8080/"
        },
        "id": "A7MwpcbCTYF5",
        "outputId": "aa49e2ae-3a49-43b1-f99d-a136323d1bfc"
      },
      "execution_count": 28,
      "outputs": [
        {
          "output_type": "stream",
          "name": "stdout",
          "text": [
            "+----------+---------+\n",
            "|      name|is_Active|\n",
            "+----------+---------+\n",
            "|Customer_1|     true|\n",
            "|Customer_2|     true|\n",
            "|Customer_7|     true|\n",
            "|Customer_8|     true|\n",
            "+----------+---------+\n",
            "only showing top 4 rows\n",
            "\n"
          ]
        }
      ]
    },
    {
      "cell_type": "markdown",
      "source": [
        "#### Second Method"
      ],
      "metadata": {
        "id": "muzUKHQEUBVO"
      }
    },
    {
      "cell_type": "code",
      "source": [
        "df_1.filter('is_active == True').show(5)"
      ],
      "metadata": {
        "colab": {
          "base_uri": "https://localhost:8080/"
        },
        "id": "_H8FFop9UD5A",
        "outputId": "e0a4015d-7e33-46cf-fb10-abb94dd44240"
      },
      "execution_count": 30,
      "outputs": [
        {
          "output_type": "stream",
          "name": "stdout",
          "text": [
            "+-----------+----------+---------+-----------+-------+-----------------+---------+\n",
            "|customer_id|      name|     city|      state|country|registration_date|is_active|\n",
            "+-----------+----------+---------+-----------+-------+-----------------+---------+\n",
            "|          1|Customer_1|Bangalore| Tamil Nadu|  India|       2023-12-07|     true|\n",
            "|          2|Customer_2|Hyderabad|    Gujarat|  India|       2023-10-27|     true|\n",
            "|          7|Customer_7|Ahmedabad|West Bengal|  India|       2023-12-28|     true|\n",
            "|          8|Customer_8|     Pune|  Karnataka|  India|       2023-06-22|     true|\n",
            "|          9|Customer_9|   Mumbai|  Telangana|  India|       2023-01-05|     true|\n",
            "+-----------+----------+---------+-----------+-------+-----------------+---------+\n",
            "only showing top 5 rows\n",
            "\n"
          ]
        }
      ]
    },
    {
      "cell_type": "markdown",
      "source": [
        "### Select Different Columns"
      ],
      "metadata": {
        "id": "u8L-QvkEUcO5"
      }
    },
    {
      "cell_type": "code",
      "source": [
        "selected_columns  = df_1.select(\"customer_id\",\"name\",\"city\")"
      ],
      "metadata": {
        "id": "iDl2BjnUUhvv"
      },
      "execution_count": 31,
      "outputs": []
    },
    {
      "cell_type": "code",
      "source": [
        "# without show() function he just show datatype of each column\n",
        "selected_columns"
      ],
      "metadata": {
        "colab": {
          "base_uri": "https://localhost:8080/"
        },
        "id": "2CJaGsfuUs3T",
        "outputId": "19ef4068-550f-47e5-dfac-6df77d11d719"
      },
      "execution_count": 32,
      "outputs": [
        {
          "output_type": "execute_result",
          "data": {
            "text/plain": [
              "DataFrame[customer_id: int, name: string, city: string]"
            ]
          },
          "metadata": {},
          "execution_count": 32
        }
      ]
    },
    {
      "cell_type": "code",
      "source": [
        "selected_columns.show(5)"
      ],
      "metadata": {
        "colab": {
          "base_uri": "https://localhost:8080/"
        },
        "id": "12tYzduZU4OV",
        "outputId": "588bc139-b357-4570-f589-81db6a90e1a7"
      },
      "execution_count": 33,
      "outputs": [
        {
          "output_type": "stream",
          "name": "stdout",
          "text": [
            "+-----------+----------+---------+\n",
            "|customer_id|      name|     city|\n",
            "+-----------+----------+---------+\n",
            "|          0|Customer_0|     Pune|\n",
            "|          1|Customer_1|Bangalore|\n",
            "|          2|Customer_2|Hyderabad|\n",
            "|          3|Customer_3|Bangalore|\n",
            "|          4|Customer_4|Ahmedabad|\n",
            "+-----------+----------+---------+\n",
            "only showing top 5 rows\n",
            "\n"
          ]
        }
      ]
    }
  ]
}