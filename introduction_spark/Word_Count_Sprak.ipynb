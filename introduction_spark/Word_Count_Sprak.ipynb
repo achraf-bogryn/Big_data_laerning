{
  "nbformat": 4,
  "nbformat_minor": 0,
  "metadata": {
    "colab": {
      "provenance": []
    },
    "kernelspec": {
      "name": "python3",
      "display_name": "Python 3"
    },
    "language_info": {
      "name": "python"
    }
  },
  "cells": [
    {
      "cell_type": "code",
      "execution_count": 2,
      "metadata": {
        "id": "_zlCdkH55CMx"
      },
      "outputs": [],
      "source": [
        "import pyspark"
      ]
    },
    {
      "cell_type": "code",
      "source": [
        "data = [\n",
        "         \"Goku Vegeta Gohan\",\n",
        "         \"Goku Frieza Goku\",\n",
        "         \"Vegeta Goku Frieza Gohan\",\n",
        "         \"Gohan Frieza Goku Goku\"\n",
        "        ]"
      ],
      "metadata": {
        "id": "uGucsv3g8sUJ"
      },
      "execution_count": 4,
      "outputs": []
    },
    {
      "cell_type": "code",
      "source": [
        "data"
      ],
      "metadata": {
        "colab": {
          "base_uri": "https://localhost:8080/"
        },
        "id": "_JCYCOWa9Jbb",
        "outputId": "81cf582d-c62a-44ac-d87f-4d3131079219"
      },
      "execution_count": 9,
      "outputs": [
        {
          "output_type": "execute_result",
          "data": {
            "text/plain": [
              "['Goku Vegeta Gohan',\n",
              " 'Goku Frieza Goku',\n",
              " 'Vegeta Goku Frieza Gohan',\n",
              " 'Gohan Frieza Goku Goku']"
            ]
          },
          "metadata": {},
          "execution_count": 9
        }
      ]
    },
    {
      "cell_type": "code",
      "source": [
        "from pyspark.sql import SparkSession\n",
        "\n",
        "spark = SparkSession.builder \\\n",
        "        .appName(\"WordCount\")\\\n",
        "        .master(\"local[*]\")\\\n",
        "        .getOrCreate()"
      ],
      "metadata": {
        "id": "2ky_HGTp825s"
      },
      "execution_count": 7,
      "outputs": []
    },
    {
      "cell_type": "code",
      "source": [
        "rdd = spark.sparkContext.parallelize(data)\n",
        "rdd.collect()"
      ],
      "metadata": {
        "colab": {
          "base_uri": "https://localhost:8080/"
        },
        "id": "EJ4y2Rx98zCo",
        "outputId": "2a9f93d4-d39b-4553-c388-73c6d764d2bc"
      },
      "execution_count": 8,
      "outputs": [
        {
          "output_type": "execute_result",
          "data": {
            "text/plain": [
              "['Goku Vegeta Gohan',\n",
              " 'Goku Frieza Goku',\n",
              " 'Vegeta Goku Frieza Gohan',\n",
              " 'Gohan Frieza Goku Goku']"
            ]
          },
          "metadata": {},
          "execution_count": 8
        }
      ]
    },
    {
      "cell_type": "code",
      "source": [
        "filtered_rdd = rdd.filter(lambda line : \"Vegeta\" in line)\n",
        "filtered_rdd.collect()"
      ],
      "metadata": {
        "colab": {
          "base_uri": "https://localhost:8080/"
        },
        "id": "0-6ungeIE5xE",
        "outputId": "0e873ec6-bc45-4a3c-b432-5376edb86f10"
      },
      "execution_count": 17,
      "outputs": [
        {
          "output_type": "execute_result",
          "data": {
            "text/plain": [
              "['Goku Vegeta Gohan', 'Vegeta Goku Frieza Gohan']"
            ]
          },
          "metadata": {},
          "execution_count": 17
        }
      ]
    },
    {
      "cell_type": "code",
      "source": [
        "words = rdd.flatMap(lambda line: line.split(\" \"))\n",
        "words.collect()"
      ],
      "metadata": {
        "colab": {
          "base_uri": "https://localhost:8080/"
        },
        "id": "I-A7FXke9jAc",
        "outputId": "fb38bc68-f5e8-4552-cbe7-29867c3b6873"
      },
      "execution_count": 10,
      "outputs": [
        {
          "output_type": "execute_result",
          "data": {
            "text/plain": [
              "['Goku',\n",
              " 'Vegeta',\n",
              " 'Gohan',\n",
              " 'Goku',\n",
              " 'Frieza',\n",
              " 'Goku',\n",
              " 'Vegeta',\n",
              " 'Goku',\n",
              " 'Frieza',\n",
              " 'Gohan',\n",
              " 'Gohan',\n",
              " 'Frieza',\n",
              " 'Goku',\n",
              " 'Goku']"
            ]
          },
          "metadata": {},
          "execution_count": 10
        }
      ]
    },
    {
      "cell_type": "code",
      "source": [
        "word_map = words.map(lambda word: (word, 1))\n",
        "word_map.collect()"
      ],
      "metadata": {
        "colab": {
          "base_uri": "https://localhost:8080/"
        },
        "id": "xsVzbbEl9zmP",
        "outputId": "5e3141e1-5fd4-4f1e-d4a4-e13950363a5c"
      },
      "execution_count": 12,
      "outputs": [
        {
          "output_type": "execute_result",
          "data": {
            "text/plain": [
              "[('Goku', 1),\n",
              " ('Vegeta', 1),\n",
              " ('Gohan', 1),\n",
              " ('Goku', 1),\n",
              " ('Frieza', 1),\n",
              " ('Goku', 1),\n",
              " ('Vegeta', 1),\n",
              " ('Goku', 1),\n",
              " ('Frieza', 1),\n",
              " ('Gohan', 1),\n",
              " ('Gohan', 1),\n",
              " ('Frieza', 1),\n",
              " ('Goku', 1),\n",
              " ('Goku', 1)]"
            ]
          },
          "metadata": {},
          "execution_count": 12
        }
      ]
    },
    {
      "cell_type": "code",
      "source": [
        "result = word_map.reduceByKey(lambda x, y: x + y)\n",
        "result.collect()"
      ],
      "metadata": {
        "colab": {
          "base_uri": "https://localhost:8080/"
        },
        "id": "OJhw_YZNAM2p",
        "outputId": "513bc05e-cdfa-4cb8-c7b5-eacf16054aab"
      },
      "execution_count": 16,
      "outputs": [
        {
          "output_type": "execute_result",
          "data": {
            "text/plain": [
              "[('Goku', 6), ('Vegeta', 2), ('Gohan', 3), ('Frieza', 3)]"
            ]
          },
          "metadata": {},
          "execution_count": 16
        }
      ]
    }
  ]
}