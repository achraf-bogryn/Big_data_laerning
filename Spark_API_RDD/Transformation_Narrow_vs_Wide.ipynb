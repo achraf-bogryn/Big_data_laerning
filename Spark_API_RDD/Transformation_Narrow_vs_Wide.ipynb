{
  "cells": [
    {
      "cell_type": "markdown",
      "id": "306eff38-88a2-46fe-89ab-7d71bc423fe5",
      "metadata": {
        "id": "306eff38-88a2-46fe-89ab-7d71bc423fe5"
      },
      "source": [
        "# Transformation - Wide vs Narrow"
      ]
    },
    {
      "cell_type": "code",
      "source": [
        "from pyspark.sql import SparkSession"
      ],
      "metadata": {
        "id": "rL67nsBecWId"
      },
      "id": "rL67nsBecWId",
      "execution_count": 1,
      "outputs": []
    },
    {
      "cell_type": "code",
      "execution_count": 2,
      "id": "7d002e75-fa3d-48af-b27d-13e27536c073",
      "metadata": {
        "id": "7d002e75-fa3d-48af-b27d-13e27536c073"
      },
      "outputs": [],
      "source": [
        "spark = SparkSession.builder \\\n",
        ".appName(\"Transformation-Wide and Narrow\") \\\n",
        ".getOrCreate()"
      ]
    },
    {
      "cell_type": "code",
      "execution_count": 3,
      "id": "11d288a9-b72a-46ea-9b60-13f3f66cfa19",
      "metadata": {
        "id": "11d288a9-b72a-46ea-9b60-13f3f66cfa19"
      },
      "outputs": [],
      "source": [
        "customer_data = [\n",
        "\"customer_id,name,city,state,country,registration_date,is_active\",\n",
        "\"0,Customer_0,Bangalore,Karnataka,India,2023-11-11,True\",\n",
        "\"1,Customer_1,Hyderabad,Delhi,India,2023-08-26,True\",\n",
        "\"2,Customer_2,Ahmedabad,West Bengal,India,2023-06-23,True\",\n",
        "\"3,Customer_3,Bangalore,Tamil Nadu,India,2023-03-24,False\",\n",
        "\"4,Customer_4,Bangalore,Gujarat,India,2023-06-06,False\",\n",
        "\"5,Customer_5,Delhi,Maharashtra,India,2023-04-19,False\",\n",
        "]\n"
      ]
    },
    {
      "cell_type": "code",
      "execution_count": 4,
      "id": "1034b462-accd-4f2e-bf70-b021cf4a075e",
      "metadata": {
        "id": "1034b462-accd-4f2e-bf70-b021cf4a075e"
      },
      "outputs": [],
      "source": [
        "data_rdd = spark.sparkContext.parallelize(customer_data)"
      ]
    },
    {
      "cell_type": "code",
      "execution_count": 5,
      "id": "7e568bbf-767f-4d80-9fb7-35f44f70662b",
      "metadata": {
        "colab": {
          "base_uri": "https://localhost:8080/"
        },
        "id": "7e568bbf-767f-4d80-9fb7-35f44f70662b",
        "outputId": "4f1c9cf1-eada-494a-feae-a03939dfc0c6"
      },
      "outputs": [
        {
          "output_type": "execute_result",
          "data": {
            "text/plain": [
              "2"
            ]
          },
          "metadata": {},
          "execution_count": 5
        }
      ],
      "source": [
        "data_rdd.getNumPartitions()"
      ]
    },
    {
      "cell_type": "code",
      "execution_count": 6,
      "id": "a05c41ac-187e-4b7b-9082-681ea16700c7",
      "metadata": {
        "id": "a05c41ac-187e-4b7b-9082-681ea16700c7"
      },
      "outputs": [],
      "source": [
        "header = data_rdd.first()"
      ]
    },
    {
      "cell_type": "code",
      "execution_count": 7,
      "id": "566ad67b-05a6-470c-99e7-e350f5dce17f",
      "metadata": {
        "colab": {
          "base_uri": "https://localhost:8080/"
        },
        "id": "566ad67b-05a6-470c-99e7-e350f5dce17f",
        "outputId": "b3f14aa1-a2ca-4227-d999-a89ce2e29ebe"
      },
      "outputs": [
        {
          "output_type": "execute_result",
          "data": {
            "text/plain": [
              "7"
            ]
          },
          "metadata": {},
          "execution_count": 7
        }
      ],
      "source": [
        "data_rdd.count()"
      ]
    },
    {
      "cell_type": "code",
      "execution_count": 8,
      "id": "89938b4c-6bef-4202-92b9-0a682d6262e4",
      "metadata": {
        "id": "89938b4c-6bef-4202-92b9-0a682d6262e4"
      },
      "outputs": [],
      "source": [
        "\n",
        "data_rdd = data_rdd.filter(lambda row : row!=header)"
      ]
    },
    {
      "cell_type": "code",
      "execution_count": 9,
      "id": "628bb0d3-3f64-4e25-835b-87acab1ee8a8",
      "metadata": {
        "colab": {
          "base_uri": "https://localhost:8080/"
        },
        "id": "628bb0d3-3f64-4e25-835b-87acab1ee8a8",
        "outputId": "48309c39-6e69-4b7f-99fe-ba4e1210d4ec"
      },
      "outputs": [
        {
          "output_type": "execute_result",
          "data": {
            "text/plain": [
              "['0,Customer_0,Bangalore,Karnataka,India,2023-11-11,True',\n",
              " '1,Customer_1,Hyderabad,Delhi,India,2023-08-26,True',\n",
              " '2,Customer_2,Ahmedabad,West Bengal,India,2023-06-23,True',\n",
              " '3,Customer_3,Bangalore,Tamil Nadu,India,2023-03-24,False',\n",
              " '4,Customer_4,Bangalore,Gujarat,India,2023-06-06,False',\n",
              " '5,Customer_5,Delhi,Maharashtra,India,2023-04-19,False']"
            ]
          },
          "metadata": {},
          "execution_count": 9
        }
      ],
      "source": [
        "data_rdd.collect()"
      ]
    },
    {
      "cell_type": "code",
      "execution_count": 10,
      "id": "5ad1fc7e-3213-4596-bc5f-48f1c4b89ce6",
      "metadata": {
        "id": "5ad1fc7e-3213-4596-bc5f-48f1c4b89ce6"
      },
      "outputs": [],
      "source": [
        "cities_rdd = data_rdd.map(lambda row:(row.split(',')[2],1))"
      ]
    },
    {
      "cell_type": "code",
      "execution_count": 11,
      "id": "196bf4c9-98eb-4dc7-bb6a-7c4127f3cbc8",
      "metadata": {
        "colab": {
          "base_uri": "https://localhost:8080/"
        },
        "id": "196bf4c9-98eb-4dc7-bb6a-7c4127f3cbc8",
        "outputId": "7190aa63-16d6-48d0-aa4c-d9dd5476a6c1"
      },
      "outputs": [
        {
          "output_type": "execute_result",
          "data": {
            "text/plain": [
              "[('Bangalore', 1),\n",
              " ('Hyderabad', 1),\n",
              " ('Ahmedabad', 1),\n",
              " ('Bangalore', 1),\n",
              " ('Bangalore', 1),\n",
              " ('Delhi', 1)]"
            ]
          },
          "metadata": {},
          "execution_count": 11
        }
      ],
      "source": [
        "cities_rdd.collect()"
      ]
    },
    {
      "cell_type": "code",
      "execution_count": 12,
      "id": "1c2ee951-8d56-41e9-8c39-baf6096bbe20",
      "metadata": {
        "id": "1c2ee951-8d56-41e9-8c39-baf6096bbe20"
      },
      "outputs": [],
      "source": [
        "customers_per_city = cities_rdd.reduceByKey(lambda x,y:x+y)"
      ]
    },
    {
      "cell_type": "code",
      "execution_count": 14,
      "id": "5261528c-d504-4f64-8d19-0c3d9951b5e2",
      "metadata": {
        "colab": {
          "base_uri": "https://localhost:8080/"
        },
        "id": "5261528c-d504-4f64-8d19-0c3d9951b5e2",
        "outputId": "d62ac785-c457-41d6-f4dc-cb9efcce9f09"
      },
      "outputs": [
        {
          "output_type": "execute_result",
          "data": {
            "text/plain": [
              "[('Hyderabad', 1), ('Delhi', 1), ('Bangalore', 3), ('Ahmedabad', 1)]"
            ]
          },
          "metadata": {},
          "execution_count": 14
        }
      ],
      "source": [
        "customers_per_city.collect()"
      ]
    },
    {
      "cell_type": "code",
      "source": [
        "customers_per_city.take(4)"
      ],
      "metadata": {
        "colab": {
          "base_uri": "https://localhost:8080/"
        },
        "id": "IREuBS4hc4au",
        "outputId": "9657fa98-627d-4bea-d0b0-c73e0883db4b"
      },
      "id": "IREuBS4hc4au",
      "execution_count": 15,
      "outputs": [
        {
          "output_type": "execute_result",
          "data": {
            "text/plain": [
              "[('Hyderabad', 1), ('Delhi', 1), ('Bangalore', 3), ('Ahmedabad', 1)]"
            ]
          },
          "metadata": {},
          "execution_count": 15
        }
      ]
    },
    {
      "cell_type": "code",
      "source": [
        "customers_per_city.count()"
      ],
      "metadata": {
        "colab": {
          "base_uri": "https://localhost:8080/"
        },
        "id": "D1KegTfodYMh",
        "outputId": "2fef6d91-7c73-4c35-ffae-e0b29ef05d08"
      },
      "id": "D1KegTfodYMh",
      "execution_count": 18,
      "outputs": [
        {
          "output_type": "execute_result",
          "data": {
            "text/plain": [
              "4"
            ]
          },
          "metadata": {},
          "execution_count": 18
        }
      ]
    },
    {
      "cell_type": "code",
      "execution_count": 19,
      "id": "f721a834-48bc-4399-96be-872e10c8a80e",
      "metadata": {
        "colab": {
          "base_uri": "https://localhost:8080/"
        },
        "id": "f721a834-48bc-4399-96be-872e10c8a80e",
        "outputId": "c0fc2048-4c1c-46e5-c7a8-488909064cf3"
      },
      "outputs": [
        {
          "output_type": "execute_result",
          "data": {
            "text/plain": [
              "[]"
            ]
          },
          "metadata": {},
          "execution_count": 19
        }
      ],
      "source": [
        "\n",
        "data_rdd.filter(lambda row:row.split(',')[5]=='True').collect()"
      ]
    },
    {
      "cell_type": "code",
      "execution_count": 20,
      "id": "d62447ec-1681-498b-90a6-340ef7eec146",
      "metadata": {
        "colab": {
          "base_uri": "https://localhost:8080/"
        },
        "id": "d62447ec-1681-498b-90a6-340ef7eec146",
        "outputId": "8a822c8f-6cfb-4ef7-e3aa-7a034c13ca0d"
      },
      "outputs": [
        {
          "output_type": "execute_result",
          "data": {
            "text/plain": [
              "4"
            ]
          },
          "metadata": {},
          "execution_count": 20
        }
      ],
      "source": [
        "data_rdd.map(lambda row:(row.split(',')[2],1)).reduceByKey(lambda x,y:x+y).count()"
      ]
    },
    {
      "cell_type": "code",
      "execution_count": 21,
      "id": "1c80037c-142e-46de-ae34-517cf7505a11",
      "metadata": {
        "id": "1c80037c-142e-46de-ae34-517cf7505a11"
      },
      "outputs": [],
      "source": [
        "spark.stop()"
      ]
    }
  ],
  "metadata": {
    "kernelspec": {
      "display_name": "PySpark",
      "language": "python",
      "name": "pyspark"
    },
    "language_info": {
      "codemirror_mode": {
        "name": "ipython",
        "version": 3
      },
      "file_extension": ".py",
      "mimetype": "text/x-python",
      "name": "python",
      "nbconvert_exporter": "python",
      "pygments_lexer": "ipython3",
      "version": "3.10.8"
    },
    "colab": {
      "provenance": []
    }
  },
  "nbformat": 4,
  "nbformat_minor": 5
}