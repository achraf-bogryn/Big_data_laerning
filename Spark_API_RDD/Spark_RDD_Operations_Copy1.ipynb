{
  "cells": [
    {
      "cell_type": "markdown",
      "id": "502e3693-37f6-4a57-b417-a2ceeb52d9df",
      "metadata": {
        "id": "502e3693-37f6-4a57-b417-a2ceeb52d9df"
      },
      "source": [
        "# Spark - Operations"
      ]
    },
    {
      "cell_type": "code",
      "execution_count": 1,
      "id": "f95c2675-aaa9-4264-8f1c-dc2a11e42e73",
      "metadata": {
        "id": "f95c2675-aaa9-4264-8f1c-dc2a11e42e73"
      },
      "outputs": [],
      "source": [
        "from pyspark.sql import SparkSession"
      ]
    },
    {
      "cell_type": "code",
      "execution_count": 2,
      "id": "41a0341d-6ef8-4062-9c87-65f34db7d78f",
      "metadata": {
        "id": "41a0341d-6ef8-4062-9c87-65f34db7d78f"
      },
      "outputs": [],
      "source": [
        "spark = SparkSession.builder \\\n",
        ".appName(\"RDD_Operations\") \\\n",
        ".getOrCreate()"
      ]
    },
    {
      "cell_type": "code",
      "execution_count": 3,
      "id": "a21f8890-8857-4e24-812b-35acd66aae81",
      "metadata": {
        "id": "a21f8890-8857-4e24-812b-35acd66aae81"
      },
      "outputs": [],
      "source": [
        "customer_data = [\n",
        "\"customer_id,name,city,state,country,registration_date,is_active\",\n",
        "\"0,Customer_0,Bangalore,Karnataka,India,2023-11-11,True\",\n",
        "\"1,Customer_1,Hyderabad,Delhi,India,2023-08-26,True\",\n",
        "\"2,Customer_2,Ahmedabad,West Bengal,India,2023-06-23,True\",\n",
        "\"3,Customer_3,Bangalore,Tamil Nadu,India,2023-03-24,False\",\n",
        "\"4,Customer_4,Bangalore,Gujarat,India,2023-06-06,False\",\n",
        "\"5,Customer_5,Delhi,Maharashtra,India,2023-04-19,False\",\n",
        "]\n"
      ]
    },
    {
      "cell_type": "code",
      "execution_count": 4,
      "id": "3b3eafb3-7fb3-47f5-a107-2fa6471d33fd",
      "metadata": {
        "id": "3b3eafb3-7fb3-47f5-a107-2fa6471d33fd"
      },
      "outputs": [],
      "source": [
        "data_rdd = spark.sparkContext.parallelize(customer_data)"
      ]
    },
    {
      "cell_type": "code",
      "source": [
        "data_rdd.collect()"
      ],
      "metadata": {
        "colab": {
          "base_uri": "https://localhost:8080/"
        },
        "id": "z71Kz8NMuLIB",
        "outputId": "d119d9bd-3c7f-4bf6-e7bc-3880f34705db"
      },
      "id": "z71Kz8NMuLIB",
      "execution_count": 5,
      "outputs": [
        {
          "output_type": "execute_result",
          "data": {
            "text/plain": [
              "['customer_id,name,city,state,country,registration_date,is_active',\n",
              " '0,Customer_0,Bangalore,Karnataka,India,2023-11-11,True',\n",
              " '1,Customer_1,Hyderabad,Delhi,India,2023-08-26,True',\n",
              " '2,Customer_2,Ahmedabad,West Bengal,India,2023-06-23,True',\n",
              " '3,Customer_3,Bangalore,Tamil Nadu,India,2023-03-24,False',\n",
              " '4,Customer_4,Bangalore,Gujarat,India,2023-06-06,False',\n",
              " '5,Customer_5,Delhi,Maharashtra,India,2023-04-19,False']"
            ]
          },
          "metadata": {},
          "execution_count": 5
        }
      ]
    },
    {
      "cell_type": "code",
      "execution_count": 6,
      "id": "e6f1ebac-76a0-418d-a5ea-65eef23d8b34",
      "metadata": {
        "colab": {
          "base_uri": "https://localhost:8080/"
        },
        "id": "e6f1ebac-76a0-418d-a5ea-65eef23d8b34",
        "outputId": "5f249853-2585-4185-a676-58d9229e1361"
      },
      "outputs": [
        {
          "output_type": "execute_result",
          "data": {
            "text/plain": [
              "2"
            ]
          },
          "metadata": {},
          "execution_count": 6
        }
      ],
      "source": [
        "data_rdd.getNumPartitions()"
      ]
    },
    {
      "cell_type": "markdown",
      "id": "727b2183-2e35-47ce-ab5a-06b0cd2a050a",
      "metadata": {
        "id": "727b2183-2e35-47ce-ab5a-06b0cd2a050a"
      },
      "source": [
        "# first() -returns the first element of RDD"
      ]
    },
    {
      "cell_type": "code",
      "execution_count": 7,
      "id": "6ef50ba1-3411-453f-8041-cf5b40f72124",
      "metadata": {
        "id": "6ef50ba1-3411-453f-8041-cf5b40f72124"
      },
      "outputs": [],
      "source": [
        "header = data_rdd.first()"
      ]
    },
    {
      "cell_type": "code",
      "execution_count": 8,
      "id": "0c9d17a5-a629-404e-b937-e3994b6d871c",
      "metadata": {
        "colab": {
          "base_uri": "https://localhost:8080/",
          "height": 36
        },
        "id": "0c9d17a5-a629-404e-b937-e3994b6d871c",
        "outputId": "e9b1163b-ac41-49b3-f1e1-d5c38bda591e"
      },
      "outputs": [
        {
          "output_type": "execute_result",
          "data": {
            "text/plain": [
              "'customer_id,name,city,state,country,registration_date,is_active'"
            ],
            "application/vnd.google.colaboratory.intrinsic+json": {
              "type": "string"
            }
          },
          "metadata": {},
          "execution_count": 8
        }
      ],
      "source": [
        "header"
      ]
    },
    {
      "cell_type": "markdown",
      "id": "c8d6a268-b265-47df-8b77-2f5e735379a5",
      "metadata": {
        "id": "c8d6a268-b265-47df-8b77-2f5e735379a5"
      },
      "source": [
        "# Filter () -> based on the condition its going to transform the dataset"
      ]
    },
    {
      "cell_type": "code",
      "execution_count": 9,
      "id": "57be62fd-590c-4a02-8b50-c0f2bed322d7",
      "metadata": {
        "id": "57be62fd-590c-4a02-8b50-c0f2bed322d7"
      },
      "outputs": [],
      "source": [
        "data_rdd = data_rdd.filter(lambda row : row!=header)"
      ]
    },
    {
      "cell_type": "code",
      "execution_count": 10,
      "id": "4ff9d26d-924e-4e94-a646-db233d640cd4",
      "metadata": {
        "colab": {
          "base_uri": "https://localhost:8080/"
        },
        "id": "4ff9d26d-924e-4e94-a646-db233d640cd4",
        "outputId": "583b9288-d793-4195-df94-d6f6d4d8b94f"
      },
      "outputs": [
        {
          "output_type": "execute_result",
          "data": {
            "text/plain": [
              "PythonRDD[2] at RDD at PythonRDD.scala:53"
            ]
          },
          "metadata": {},
          "execution_count": 10
        }
      ],
      "source": [
        "data_rdd"
      ]
    },
    {
      "cell_type": "markdown",
      "id": "4980492e-f160-4a7f-805b-8efeb8c4647e",
      "metadata": {
        "id": "4980492e-f160-4a7f-805b-8efeb8c4647e"
      },
      "source": [
        "# Map() - It applies a function to each element in an RDD."
      ]
    },
    {
      "cell_type": "code",
      "execution_count": 11,
      "id": "7045ccf2-c7ba-4a51-aa51-d1c625864ef7",
      "metadata": {
        "colab": {
          "base_uri": "https://localhost:8080/"
        },
        "id": "7045ccf2-c7ba-4a51-aa51-d1c625864ef7",
        "outputId": "b671e94d-ae42-463c-851d-fa85e199d8d9"
      },
      "outputs": [
        {
          "output_type": "execute_result",
          "data": {
            "text/plain": [
              "['0,Customer_0,Bangalore,Karnataka,India,2023-11-11,True',\n",
              " '1,Customer_1,Hyderabad,Delhi,India,2023-08-26,True',\n",
              " '2,Customer_2,Ahmedabad,West Bengal,India,2023-06-23,True',\n",
              " '3,Customer_3,Bangalore,Tamil Nadu,India,2023-03-24,False',\n",
              " '4,Customer_4,Bangalore,Gujarat,India,2023-06-06,False',\n",
              " '5,Customer_5,Delhi,Maharashtra,India,2023-04-19,False']"
            ]
          },
          "metadata": {},
          "execution_count": 11
        }
      ],
      "source": [
        "data_rdd.collect()"
      ]
    },
    {
      "cell_type": "code",
      "execution_count": 30,
      "id": "b8bbf129-1450-478d-995c-41b76a2503a5",
      "metadata": {
        "colab": {
          "base_uri": "https://localhost:8080/"
        },
        "id": "b8bbf129-1450-478d-995c-41b76a2503a5",
        "outputId": "35a6dbe2-f0b5-4649-db59-a98186047800"
      },
      "outputs": [
        {
          "output_type": "execute_result",
          "data": {
            "text/plain": [
              "True"
            ]
          },
          "metadata": {},
          "execution_count": 30
        }
      ],
      "source": [
        "first_row = data_rdd.first()\n",
        "first_row.split(',')[6]=='True'"
      ]
    },
    {
      "cell_type": "code",
      "source": [
        "first_row.split(',')"
      ],
      "metadata": {
        "colab": {
          "base_uri": "https://localhost:8080/"
        },
        "id": "ONDgIDAj6chP",
        "outputId": "c78f55b0-7afe-4a49-f247-e8793faeb76e"
      },
      "id": "ONDgIDAj6chP",
      "execution_count": 29,
      "outputs": [
        {
          "output_type": "execute_result",
          "data": {
            "text/plain": [
              "['0', 'Customer_0', 'Bangalore', 'Karnataka', 'India', '2023-11-11', 'True']"
            ]
          },
          "metadata": {},
          "execution_count": 29
        }
      ]
    },
    {
      "cell_type": "code",
      "source": [
        "first_row.split(',')[2]"
      ],
      "metadata": {
        "colab": {
          "base_uri": "https://localhost:8080/",
          "height": 36
        },
        "id": "3OlWBHIj4CBg",
        "outputId": "aab6f1f7-93d5-4646-d427-f7d513641a58"
      },
      "id": "3OlWBHIj4CBg",
      "execution_count": 31,
      "outputs": [
        {
          "output_type": "execute_result",
          "data": {
            "text/plain": [
              "'Bangalore'"
            ],
            "application/vnd.google.colaboratory.intrinsic+json": {
              "type": "string"
            }
          },
          "metadata": {},
          "execution_count": 31
        }
      ]
    },
    {
      "cell_type": "markdown",
      "source": [
        "`we apply tthis function for casting datatype of id into int and aslo last column into Boolean`"
      ],
      "metadata": {
        "id": "oMBbsnXUf3Ud"
      },
      "id": "oMBbsnXUf3Ud"
    },
    {
      "cell_type": "code",
      "execution_count": 32,
      "id": "767b724e-2e80-4a23-86bc-65544709bcd7",
      "metadata": {
        "id": "767b724e-2e80-4a23-86bc-65544709bcd7"
      },
      "outputs": [],
      "source": [
        "def parse_row(row):\n",
        "    fields = row.split(',')\n",
        "    return (\n",
        "     int(fields[0]),\n",
        "        fields[1],\n",
        "        fields[2],\n",
        "        fields[3],\n",
        "        fields[4],\n",
        "        fields[5],\n",
        "        fields[6]=='True'\n",
        "    )"
      ]
    },
    {
      "cell_type": "code",
      "source": [
        "parse_row(first_row)"
      ],
      "metadata": {
        "colab": {
          "base_uri": "https://localhost:8080/"
        },
        "id": "DuRdIPHXiU8n",
        "outputId": "cfe81173-0c8a-4290-e544-db8d62d64c29"
      },
      "id": "DuRdIPHXiU8n",
      "execution_count": 36,
      "outputs": [
        {
          "output_type": "execute_result",
          "data": {
            "text/plain": [
              "(0, 'Customer_0', 'Bangalore', 'Karnataka', 'India', '2023-11-11', True)"
            ]
          },
          "metadata": {},
          "execution_count": 36
        }
      ]
    },
    {
      "cell_type": "markdown",
      "source": [
        "` But we use map that he will take every row from data_rdd and pass it as parameter into parse_row function`"
      ],
      "metadata": {
        "id": "iu1vNAM4ieSG"
      },
      "id": "iu1vNAM4ieSG"
    },
    {
      "cell_type": "code",
      "execution_count": 33,
      "id": "22e62ba6-0cd4-4632-85ed-6de7d22cc1d1",
      "metadata": {
        "id": "22e62ba6-0cd4-4632-85ed-6de7d22cc1d1"
      },
      "outputs": [],
      "source": [
        "parsed_rdd = data_rdd.map(parse_row)"
      ]
    },
    {
      "cell_type": "code",
      "execution_count": 18,
      "id": "ee5cb9f0-d6b4-4001-af2b-f542b11ddbc9",
      "metadata": {
        "colab": {
          "base_uri": "https://localhost:8080/"
        },
        "id": "ee5cb9f0-d6b4-4001-af2b-f542b11ddbc9",
        "outputId": "317aa701-0d85-42df-c197-4d12545b121f"
      },
      "outputs": [
        {
          "output_type": "execute_result",
          "data": {
            "text/plain": [
              "[(0, 'Customer_0', 'Bangalore', 'Karnataka', 'India', '2023-11-11', True),\n",
              " (1, 'Customer_1', 'Hyderabad', 'Delhi', 'India', '2023-08-26', True),\n",
              " (2, 'Customer_2', 'Ahmedabad', 'West Bengal', 'India', '2023-06-23', True),\n",
              " (3, 'Customer_3', 'Bangalore', 'Tamil Nadu', 'India', '2023-03-24', False),\n",
              " (4, 'Customer_4', 'Bangalore', 'Gujarat', 'India', '2023-06-06', False),\n",
              " (5, 'Customer_5', 'Delhi', 'Maharashtra', 'India', '2023-04-19', False)]"
            ]
          },
          "metadata": {},
          "execution_count": 18
        }
      ],
      "source": [
        "parsed_rdd.collect()"
      ]
    },
    {
      "cell_type": "markdown",
      "id": "78ad572b-0871-439b-835d-45888bf77bea",
      "metadata": {
        "id": "78ad572b-0871-439b-835d-45888bf77bea"
      },
      "source": [
        "# Advance RDD Operations"
      ]
    },
    {
      "cell_type": "code",
      "execution_count": 47,
      "id": "faf2a180-a049-4681-b6a0-06e2125c39a1",
      "metadata": {
        "colab": {
          "base_uri": "https://localhost:8080/"
        },
        "id": "faf2a180-a049-4681-b6a0-06e2125c39a1",
        "outputId": "7fdb70fa-1498-4420-8443-62991b1a650f"
      },
      "outputs": [
        {
          "output_type": "execute_result",
          "data": {
            "text/plain": [
              "[('Customer_0', 'Bangalore'),\n",
              " ('Customer_1', 'Hyderabad'),\n",
              " ('Customer_2', 'Ahmedabad'),\n",
              " ('Customer_3', 'Bangalore'),\n",
              " ('Customer_4', 'Bangalore'),\n",
              " ('Customer_5', 'Delhi')]"
            ]
          },
          "metadata": {},
          "execution_count": 47
        }
      ],
      "source": [
        "name_city_rdd = parsed_rdd.map(lambda row : (row[1],row[2]))\n",
        "name_city_rdd.collect()"
      ]
    },
    {
      "cell_type": "code",
      "source": [
        "# Extract Field with Map() in fist row\n",
        "name_city_rdd = parsed_rdd.map(lambda row : (row[1],row[2]))\n",
        "name_city_rdd.first()"
      ],
      "metadata": {
        "colab": {
          "base_uri": "https://localhost:8080/"
        },
        "id": "FBC3FaZpwPIb",
        "outputId": "2a21f378-dcdc-4b8f-a3f1-92203dc8bca9"
      },
      "id": "FBC3FaZpwPIb",
      "execution_count": 49,
      "outputs": [
        {
          "output_type": "execute_result",
          "data": {
            "text/plain": [
              "('Customer_0', 'Bangalore')"
            ]
          },
          "metadata": {},
          "execution_count": 49
        }
      ]
    },
    {
      "cell_type": "code",
      "execution_count": 43,
      "id": "0c284960-7dfb-4e8c-96e3-079ab0436d73",
      "metadata": {
        "id": "0c284960-7dfb-4e8c-96e3-079ab0436d73"
      },
      "outputs": [],
      "source": [
        "active_customers = parsed_rdd.filter(lambda row: row[6] == True)"
      ]
    },
    {
      "cell_type": "code",
      "execution_count": 44,
      "id": "3033ec21-2259-4fef-8b52-7415ca61827e",
      "metadata": {
        "colab": {
          "base_uri": "https://localhost:8080/"
        },
        "id": "3033ec21-2259-4fef-8b52-7415ca61827e",
        "outputId": "fe29d0e0-dccb-49c6-b930-0b74361896a5"
      },
      "outputs": [
        {
          "output_type": "execute_result",
          "data": {
            "text/plain": [
              "[(0, 'Customer_0', 'Bangalore', 'Karnataka', 'India', '2023-11-11', True),\n",
              " (1, 'Customer_1', 'Hyderabad', 'Delhi', 'India', '2023-08-26', True),\n",
              " (2, 'Customer_2', 'Ahmedabad', 'West Bengal', 'India', '2023-06-23', True)]"
            ]
          },
          "metadata": {},
          "execution_count": 44
        }
      ],
      "source": [
        "active_customers.collect()"
      ]
    },
    {
      "cell_type": "code",
      "execution_count": 50,
      "id": "620d9af8-0e32-4eec-b87a-cd4e7f9c08c9",
      "metadata": {
        "id": "620d9af8-0e32-4eec-b87a-cd4e7f9c08c9"
      },
      "outputs": [],
      "source": [
        "# distinct() --> Transformation\n",
        "cities_rdd = parsed_rdd.map(lambda row:row[2]).distinct()"
      ]
    },
    {
      "cell_type": "code",
      "execution_count": 51,
      "id": "92a3b90e-2ac4-44d0-b24c-70499fba57dc",
      "metadata": {
        "colab": {
          "base_uri": "https://localhost:8080/"
        },
        "id": "92a3b90e-2ac4-44d0-b24c-70499fba57dc",
        "outputId": "1c8145df-5956-48af-f7eb-40e6b96313dc"
      },
      "outputs": [
        {
          "output_type": "execute_result",
          "data": {
            "text/plain": [
              "['Hyderabad', 'Delhi', 'Bangalore', 'Ahmedabad']"
            ]
          },
          "metadata": {},
          "execution_count": 51
        }
      ],
      "source": [
        "cities_rdd.collect()"
      ]
    },
    {
      "cell_type": "code",
      "execution_count": 52,
      "id": "1caee62f-319f-4b9c-9daf-1c9cc1ce0a22",
      "metadata": {
        "colab": {
          "base_uri": "https://localhost:8080/"
        },
        "id": "1caee62f-319f-4b9c-9daf-1c9cc1ce0a22",
        "outputId": "1a484324-aef8-42ed-a2bc-e0bc1829728c"
      },
      "outputs": [
        {
          "output_type": "execute_result",
          "data": {
            "text/plain": [
              "['Hyderabad', 'Delhi', 'Bangalore']"
            ]
          },
          "metadata": {},
          "execution_count": 52
        }
      ],
      "source": [
        "# take()\n",
        "\n",
        "cities_rdd.take(3)"
      ]
    },
    {
      "cell_type": "code",
      "execution_count": null,
      "id": "dfba3861-cc94-42cd-a5ea-60671de13acd",
      "metadata": {
        "id": "dfba3861-cc94-42cd-a5ea-60671de13acd"
      },
      "outputs": [],
      "source": [
        "# Reduce By Key - Transformation\n",
        "# combines values for each key using an associative reduce function."
      ]
    },
    {
      "cell_type": "code",
      "execution_count": 54,
      "id": "bec2ecdf-0c0a-4d19-ad45-bc65be0e1dd4",
      "metadata": {
        "id": "bec2ecdf-0c0a-4d19-ad45-bc65be0e1dd4"
      },
      "outputs": [],
      "source": [
        "\n",
        "# we can chain the functions together\n",
        "customers_per_city = parsed_rdd.map(lambda row :(row[2],1))"
      ]
    },
    {
      "cell_type": "code",
      "execution_count": 55,
      "id": "a9e395a7-8008-476a-a090-c9b29b626310",
      "metadata": {
        "colab": {
          "base_uri": "https://localhost:8080/"
        },
        "id": "a9e395a7-8008-476a-a090-c9b29b626310",
        "outputId": "90ae4e18-13f5-4a78-85b8-35572733ab98"
      },
      "outputs": [
        {
          "output_type": "execute_result",
          "data": {
            "text/plain": [
              "[('Bangalore', 1),\n",
              " ('Hyderabad', 1),\n",
              " ('Ahmedabad', 1),\n",
              " ('Bangalore', 1),\n",
              " ('Bangalore', 1),\n",
              " ('Delhi', 1)]"
            ]
          },
          "metadata": {},
          "execution_count": 55
        }
      ],
      "source": [
        "customers_per_city.collect()"
      ]
    },
    {
      "cell_type": "markdown",
      "source": [
        "`reducByKey()` is Transformation"
      ],
      "metadata": {
        "id": "LgXi6aYLBdwC"
      },
      "id": "LgXi6aYLBdwC"
    },
    {
      "cell_type": "code",
      "source": [
        "customers_per_city = customers_per_city.reduceByKey(lambda x,y:x+y)"
      ],
      "metadata": {
        "id": "NKmCPQdg5Neh"
      },
      "id": "NKmCPQdg5Neh",
      "execution_count": 56,
      "outputs": []
    },
    {
      "cell_type": "code",
      "execution_count": 57,
      "id": "71f3e6b6-70c2-4b6c-b0f1-20a7803db4dd",
      "metadata": {
        "colab": {
          "base_uri": "https://localhost:8080/"
        },
        "id": "71f3e6b6-70c2-4b6c-b0f1-20a7803db4dd",
        "outputId": "0554510e-f6ee-4913-eec4-767931b33a89"
      },
      "outputs": [
        {
          "output_type": "execute_result",
          "data": {
            "text/plain": [
              "[('Hyderabad', 1), ('Delhi', 1), ('Bangalore', 3), ('Ahmedabad', 1)]"
            ]
          },
          "metadata": {},
          "execution_count": 57
        }
      ],
      "source": [
        "customers_per_city.collect()"
      ]
    },
    {
      "cell_type": "markdown",
      "source": [
        "`# CountByValue` is Action"
      ],
      "metadata": {
        "id": "QLs02Ih4BX_R"
      },
      "id": "QLs02Ih4BX_R"
    },
    {
      "cell_type": "code",
      "execution_count": 58,
      "id": "b72841b4-ea57-4060-bb7f-19b34e4cc26b",
      "metadata": {
        "id": "b72841b4-ea57-4060-bb7f-19b34e4cc26b"
      },
      "outputs": [],
      "source": [
        "cust_per_city = parsed_rdd.map(lambda row:row[2]).countByValue()"
      ]
    },
    {
      "cell_type": "code",
      "execution_count": 59,
      "id": "c3737366-e97c-4dcd-9f0a-2298079199fa",
      "metadata": {
        "colab": {
          "base_uri": "https://localhost:8080/"
        },
        "id": "c3737366-e97c-4dcd-9f0a-2298079199fa",
        "outputId": "3fa79d1e-ea80-4756-8b5d-16d6cf49ca06"
      },
      "outputs": [
        {
          "output_type": "execute_result",
          "data": {
            "text/plain": [
              "defaultdict(int, {'Bangalore': 3, 'Hyderabad': 1, 'Ahmedabad': 1, 'Delhi': 1})"
            ]
          },
          "metadata": {},
          "execution_count": 59
        }
      ],
      "source": [
        "cust_per_city"
      ]
    },
    {
      "cell_type": "markdown",
      "id": "e66f5966-2147-4fb5-a7ec-2fc7066705a0",
      "metadata": {
        "id": "e66f5966-2147-4fb5-a7ec-2fc7066705a0"
      },
      "source": [
        "# Important - ReducebyKey is a Transformation while COuntByValue is an Action"
      ]
    },
    {
      "cell_type": "code",
      "execution_count": 63,
      "id": "36fec76d-737b-4f11-b25c-de0ebc3cf035",
      "metadata": {
        "colab": {
          "base_uri": "https://localhost:8080/"
        },
        "id": "36fec76d-737b-4f11-b25c-de0ebc3cf035",
        "outputId": "e91c6c9d-28eb-4e35-c0b2-97a346349c8f"
      },
      "outputs": [
        {
          "output_type": "execute_result",
          "data": {
            "text/plain": [
              "[(0, 'Customer_0', 'Bangalore', 'Karnataka', 'India', '2023-11-11', True),\n",
              " (1, 'Customer_1', 'Hyderabad', 'Delhi', 'India', '2023-08-26', True),\n",
              " (2, 'Customer_2', 'Ahmedabad', 'West Bengal', 'India', '2023-06-23', True),\n",
              " (3, 'Customer_3', 'Bangalore', 'Tamil Nadu', 'India', '2023-03-24', False),\n",
              " (4, 'Customer_4', 'Bangalore', 'Gujarat', 'India', '2023-06-06', False),\n",
              " (5, 'Customer_5', 'Delhi', 'Maharashtra', 'India', '2023-04-19', False)]"
            ]
          },
          "metadata": {},
          "execution_count": 63
        }
      ],
      "source": [
        "parsed_rdd.collect()"
      ]
    },
    {
      "cell_type": "code",
      "execution_count": 72,
      "id": "e370568c-24c1-4332-8b3d-141e811f6c31",
      "metadata": {
        "colab": {
          "base_uri": "https://localhost:8080/"
        },
        "id": "e370568c-24c1-4332-8b3d-141e811f6c31",
        "outputId": "c7eb8f53-c505-409c-d386-2f5085f4d120"
      },
      "outputs": [
        {
          "output_type": "execute_result",
          "data": {
            "text/plain": [
              "['Bangalore', 'Hyderabad', 'Ahmedabad']"
            ]
          },
          "metadata": {},
          "execution_count": 72
        }
      ],
      "source": [
        "ACTIVE = parsed_rdd.filter(lambda row:row[6])\n",
        "ACTIVE.map(lambda row : row[2]).collect()"
      ]
    },
    {
      "cell_type": "markdown",
      "id": "c4303a89-915c-468f-a555-40fffbc8a67e",
      "metadata": {
        "id": "c4303a89-915c-468f-a555-40fffbc8a67e"
      },
      "source": [
        "# Combine More Operations"
      ]
    },
    {
      "cell_type": "code",
      "execution_count": 73,
      "id": "76413075-69ff-43b4-9977-77bea2381b70",
      "metadata": {
        "colab": {
          "base_uri": "https://localhost:8080/"
        },
        "id": "76413075-69ff-43b4-9977-77bea2381b70",
        "outputId": "c46a49e2-41e0-4a50-9ba0-fd7b56f4d98b"
      },
      "outputs": [
        {
          "output_type": "execute_result",
          "data": {
            "text/plain": [
              "['Hyderabad', 'Bangalore', 'Ahmedabad']"
            ]
          },
          "metadata": {},
          "execution_count": 73
        }
      ],
      "source": [
        "# Cities with active customer\n",
        "\n",
        "active_cities = parsed_rdd.filter(lambda row:row[6]) \\\n",
        "                          .map(lambda row:row[2]) \\\n",
        "                          .distinct()\n",
        "\n",
        "active_cities.collect()"
      ]
    },
    {
      "cell_type": "markdown",
      "id": "8cf2db52-b992-4906-a179-8792486f7ff2",
      "metadata": {
        "id": "8cf2db52-b992-4906-a179-8792486f7ff2"
      },
      "source": [
        "# HW <-----"
      ]
    },
    {
      "cell_type": "markdown",
      "id": "589cb8d8-2e69-4101-978b-14e9d109dab8",
      "metadata": {
        "id": "589cb8d8-2e69-4101-978b-14e9d109dab8"
      },
      "source": [
        "# Count Active Customer By State"
      ]
    },
    {
      "cell_type": "code",
      "execution_count": 82,
      "id": "0891d687-a55b-4f69-a154-ff933f764292",
      "metadata": {
        "colab": {
          "base_uri": "https://localhost:8080/"
        },
        "id": "0891d687-a55b-4f69-a154-ff933f764292",
        "outputId": "bddbb2e3-2e7e-4fc0-d8a1-9bf9470d846f"
      },
      "outputs": [
        {
          "output_type": "execute_result",
          "data": {
            "text/plain": [
              "defaultdict(int, {'Karnataka': 1, 'Delhi': 1, 'West Bengal': 1})"
            ]
          },
          "metadata": {},
          "execution_count": 82
        }
      ],
      "source": [
        "# Run this code on 500mb file as well.\n",
        "\n",
        "# 1st find all active state\n",
        "active_state = parsed_rdd.filter(lambda row:row[6]) \\\n",
        "                     .map(lambda row:row[3]) \\\n",
        "                     .countByValue()\n",
        "\n",
        "active_state"
      ]
    },
    {
      "cell_type": "code",
      "execution_count": 76,
      "id": "84c5b296-e117-4944-b97f-ba7241e4745e",
      "metadata": {
        "id": "84c5b296-e117-4944-b97f-ba7241e4745e"
      },
      "outputs": [],
      "source": [
        "active_cities.saveAsTextFile(\"/content/active_cities.csv\")"
      ]
    },
    {
      "cell_type": "code",
      "execution_count": 83,
      "id": "9cac1594-8d59-4e67-93df-f1e501a739ed",
      "metadata": {
        "id": "9cac1594-8d59-4e67-93df-f1e501a739ed"
      },
      "outputs": [],
      "source": [
        "spark.stop()"
      ]
    }
  ],
  "metadata": {
    "kernelspec": {
      "display_name": "PySpark",
      "language": "python",
      "name": "pyspark"
    },
    "language_info": {
      "codemirror_mode": {
        "name": "ipython",
        "version": 3
      },
      "file_extension": ".py",
      "mimetype": "text/x-python",
      "name": "python",
      "nbconvert_exporter": "python",
      "pygments_lexer": "ipython3",
      "version": "3.10.8"
    },
    "colab": {
      "provenance": []
    }
  },
  "nbformat": 4,
  "nbformat_minor": 5
}