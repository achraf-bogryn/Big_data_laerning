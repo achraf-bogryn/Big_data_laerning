{
  "cells": [
    {
      "cell_type": "code",
      "execution_count": 1,
      "id": "6b9a2b48-5ad5-41f2-a8b9-d7b324e37ebd",
      "metadata": {
        "id": "6b9a2b48-5ad5-41f2-a8b9-d7b324e37ebd"
      },
      "outputs": [],
      "source": [
        "from pyspark.sql import SparkSession\n",
        "# Initialize Spark Session\n",
        "spark = SparkSession. builder \\\n",
        ".appName (\"Repartition vs Coalesce\") \\\n",
        ".getOrCreate ()"
      ]
    },
    {
      "cell_type": "code",
      "execution_count": 2,
      "id": "3029240e-7006-4273-a6ff-429136089a43",
      "metadata": {
        "id": "3029240e-7006-4273-a6ff-429136089a43"
      },
      "outputs": [],
      "source": [
        "rdd = spark.sparkContext.textFile('/content/first_100_customers.csv')"
      ]
    },
    {
      "cell_type": "code",
      "execution_count": 3,
      "id": "31a82460-2dff-4f33-963b-302ae57fb444",
      "metadata": {
        "colab": {
          "base_uri": "https://localhost:8080/"
        },
        "id": "31a82460-2dff-4f33-963b-302ae57fb444",
        "outputId": "21496cd4-11ad-496c-b61e-15b992f5e86d"
      },
      "outputs": [
        {
          "output_type": "execute_result",
          "data": {
            "text/plain": [
              "['customer_id,name,city,state,country,registration_date,is_active',\n",
              " '0,Customer_0,Pune,Maharashtra,India,2023-06-29,False',\n",
              " '1,Customer_1,Bangalore,Tamil Nadu,India,2023-12-07,True',\n",
              " '2,Customer_2,Hyderabad,Gujarat,India,2023-10-27,True',\n",
              " '3,Customer_3,Bangalore,Karnataka,India,2023-10-17,False']"
            ]
          },
          "metadata": {},
          "execution_count": 3
        }
      ],
      "source": [
        "rdd.take(5)"
      ]
    },
    {
      "cell_type": "code",
      "execution_count": 4,
      "id": "5a050f9e-869d-4e16-a02d-aa69807e635d",
      "metadata": {
        "colab": {
          "base_uri": "https://localhost:8080/"
        },
        "id": "5a050f9e-869d-4e16-a02d-aa69807e635d",
        "outputId": "b501cedb-cb9e-4f22-abdc-bf985300ba49"
      },
      "outputs": [
        {
          "output_type": "execute_result",
          "data": {
            "text/plain": [
              "2"
            ]
          },
          "metadata": {},
          "execution_count": 4
        }
      ],
      "source": [
        "rdd.getNumPartitions()"
      ]
    },
    {
      "cell_type": "code",
      "execution_count": 5,
      "id": "2f5ef5a9-5eec-4e78-8502-281d6e7ead26",
      "metadata": {
        "id": "2f5ef5a9-5eec-4e78-8502-281d6e7ead26"
      },
      "outputs": [],
      "source": [
        "reparition_rdd = rdd.repartition(4)"
      ]
    },
    {
      "cell_type": "code",
      "source": [
        "reparition_rdd.getNumPartitions()"
      ],
      "metadata": {
        "colab": {
          "base_uri": "https://localhost:8080/"
        },
        "id": "VBv3LftZ8Gcg",
        "outputId": "899296ea-ca98-465f-bf51-08ab2e18aca0"
      },
      "id": "VBv3LftZ8Gcg",
      "execution_count": 6,
      "outputs": [
        {
          "output_type": "execute_result",
          "data": {
            "text/plain": [
              "4"
            ]
          },
          "metadata": {},
          "execution_count": 6
        }
      ]
    },
    {
      "cell_type": "code",
      "execution_count": null,
      "id": "a3d57445-2ce0-478f-a61e-ee9e537a5d16",
      "metadata": {
        "id": "a3d57445-2ce0-478f-a61e-ee9e537a5d16",
        "outputId": "50f2f7af-86be-4b25-d1f1-ea1960390f72"
      },
      "outputs": [
        {
          "data": {
            "text/plain": "4"
          },
          "execution_count": 16,
          "metadata": {},
          "output_type": "execute_result"
        }
      ],
      "source": [
        "rdd.repartition(4).getNumPartitions()"
      ]
    },
    {
      "cell_type": "code",
      "execution_count": null,
      "id": "4e1214ca-541b-4f83-a34a-bce9c17f844b",
      "metadata": {
        "id": "4e1214ca-541b-4f83-a34a-bce9c17f844b",
        "outputId": "f0af9709-bca9-4041-9437-871e33c25779"
      },
      "outputs": [
        {
          "data": {
            "text/plain": "4"
          },
          "execution_count": 15,
          "metadata": {},
          "output_type": "execute_result"
        }
      ],
      "source": [
        "reparition_rdd.getNumPartitions()"
      ]
    },
    {
      "cell_type": "code",
      "execution_count": 7,
      "id": "5f072969-684c-497b-a03f-b8cf89876388",
      "metadata": {
        "id": "5f072969-684c-497b-a03f-b8cf89876388"
      },
      "outputs": [],
      "source": [
        "repartition_rdd_less = rdd.repartition(1)"
      ]
    },
    {
      "cell_type": "code",
      "execution_count": 8,
      "id": "1b43fc91-863d-4dc7-8839-1e3dce7eebca",
      "metadata": {
        "colab": {
          "base_uri": "https://localhost:8080/"
        },
        "id": "1b43fc91-863d-4dc7-8839-1e3dce7eebca",
        "outputId": "554c3961-4950-49d1-de4d-0aefad6acd63"
      },
      "outputs": [
        {
          "output_type": "execute_result",
          "data": {
            "text/plain": [
              "1"
            ]
          },
          "metadata": {},
          "execution_count": 8
        }
      ],
      "source": [
        "repartition_rdd_less.getNumPartitions()"
      ]
    },
    {
      "cell_type": "code",
      "execution_count": 9,
      "id": "dec3a82b-f7a9-4caf-a3d6-ef5f9312d1aa",
      "metadata": {
        "id": "dec3a82b-f7a9-4caf-a3d6-ef5f9312d1aa"
      },
      "outputs": [],
      "source": [
        "coalesce_rdd = rdd.coalesce(1)"
      ]
    },
    {
      "cell_type": "code",
      "execution_count": 10,
      "id": "14cce83d-51f9-406b-8d96-41d7e9482054",
      "metadata": {
        "colab": {
          "base_uri": "https://localhost:8080/"
        },
        "id": "14cce83d-51f9-406b-8d96-41d7e9482054",
        "outputId": "4a5ea58b-9496-4a0e-b7af-797a4df70372"
      },
      "outputs": [
        {
          "output_type": "execute_result",
          "data": {
            "text/plain": [
              "1"
            ]
          },
          "metadata": {},
          "execution_count": 10
        }
      ],
      "source": [
        "coalesce_rdd.getNumPartitions()"
      ]
    },
    {
      "cell_type": "code",
      "execution_count": 11,
      "id": "87332677-26ad-44d1-b5eb-ca372427f13d",
      "metadata": {
        "colab": {
          "base_uri": "https://localhost:8080/"
        },
        "id": "87332677-26ad-44d1-b5eb-ca372427f13d",
        "outputId": "1071261d-87a6-41ba-9b38-5fd5b9b6a777"
      },
      "outputs": [
        {
          "output_type": "execute_result",
          "data": {
            "text/plain": [
              "2"
            ]
          },
          "metadata": {},
          "execution_count": 11
        }
      ],
      "source": [
        "rdd.coalesce(10).getNumPartitions()"
      ]
    },
    {
      "cell_type": "code",
      "source": [
        "coeless_partition = reparition_rdd.coalesce(3)\n",
        "coeless_partition.getNumPartitions()"
      ],
      "metadata": {
        "colab": {
          "base_uri": "https://localhost:8080/"
        },
        "id": "h3k7JPSM8WYC",
        "outputId": "e2b41fea-0a20-4fc1-e302-23fd0331959f"
      },
      "id": "h3k7JPSM8WYC",
      "execution_count": 12,
      "outputs": [
        {
          "output_type": "execute_result",
          "data": {
            "text/plain": [
              "3"
            ]
          },
          "metadata": {},
          "execution_count": 12
        }
      ]
    },
    {
      "cell_type": "code",
      "execution_count": 14,
      "id": "4b68bda9-f0b2-4bd8-adcd-dffa0de25dc0",
      "metadata": {
        "id": "4b68bda9-f0b2-4bd8-adcd-dffa0de25dc0"
      },
      "outputs": [],
      "source": [
        "spark.stop()"
      ]
    }
  ],
  "metadata": {
    "kernelspec": {
      "display_name": "PySpark",
      "language": "python",
      "name": "pyspark"
    },
    "language_info": {
      "codemirror_mode": {
        "name": "ipython",
        "version": 3
      },
      "file_extension": ".py",
      "mimetype": "text/x-python",
      "name": "python",
      "nbconvert_exporter": "python",
      "pygments_lexer": "ipython3",
      "version": "3.10.8"
    },
    "colab": {
      "provenance": []
    }
  },
  "nbformat": 4,
  "nbformat_minor": 5
}